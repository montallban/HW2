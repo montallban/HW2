{
 "cells": [
  {
   "cell_type": "code",
   "execution_count": 33,
   "metadata": {},
   "outputs": [],
   "source": [
    "predictions0 = np.asarray(np.genfromtxt('predictions_0.csv',delimiter=','))\n",
    "predictions1 = np.asarray(np.genfromtxt('predictions_1.csv',delimiter=','))\n",
    "predictions2 = np.asarray(np.genfromtxt('predictions_2.csv',delimiter=','))\n",
    "predictions3 = np.asarray(np.genfromtxt('predictions_3.csv',delimiter=','))\n",
    "predictions4 = np.asarray(np.genfromtxt('predictions_4.csv',delimiter=','))\n",
    "predictions5 = np.asarray(np.genfromtxt('predictions_5.csv',delimiter=','))\n",
    "predictions6 = np.asarray(np.genfromtxt('predictions_6.csv',delimiter=','))\n",
    "predictions7 = np.asarray(np.genfromtxt('predictions_7.csv',delimiter=','))\n",
    "predictions8 = np.asarray(np.genfromtxt('predictions_8.csv',delimiter=','))\n",
    "predictions9 = np.asarray(np.genfromtxt('predictions_9.csv',delimiter=','))"
   ]
  },
  {
   "cell_type": "code",
   "execution_count": 54,
   "metadata": {},
   "outputs": [],
   "source": [
    "from nn_1 import *\n",
    "import pickle"
   ]
  },
  {
   "cell_type": "code",
   "execution_count": 55,
   "metadata": {},
   "outputs": [
    {
     "data": {
      "image/png": "[encoded data removed]",
      "text/plain": [
       "<Figure size 720x432 with 1 Axes>"
      ]
     },
     "metadata": {
      "needs_background": "light"
     },
     "output_type": "display_data"
    },
    {
     "ename": "AttributeError",
     "evalue": "'Figure' object has no attribute 'save_fig'",
     "output_type": "error",
     "traceback": [
      "\u001b[1;31m---------------------------------------------------------------------------\u001b[0m",
      "\u001b[1;31mAttributeError\u001b[0m                            Traceback (most recent call last)",
      "\u001b[1;32m<ipython-input-55-9e57cd8eb33f>\u001b[0m in \u001b[0;36m<module>\u001b[1;34m\u001b[0m\n\u001b[1;32m----> 1\u001b[1;33m \u001b[0mdisplay_learning_curve_set\u001b[0m\u001b[1;33m(\u001b[0m\u001b[1;34m'bool_exp'\u001b[0m\u001b[1;33m)\u001b[0m\u001b[1;33m\u001b[0m\u001b[1;33m\u001b[0m\u001b[0m\n\u001b[0m",
      "\u001b[1;32m~\\AML\\nn_1.py\u001b[0m in \u001b[0;36mdisplay_learning_curve_set\u001b[1;34m(base)\u001b[0m\n\u001b[0;32m    127\u001b[0m             \u001b[0mplt\u001b[0m\u001b[1;33m.\u001b[0m\u001b[0mplot\u001b[0m\u001b[1;33m(\u001b[0m\u001b[0mhistory\u001b[0m\u001b[1;33m[\u001b[0m\u001b[1;34m'loss'\u001b[0m\u001b[1;33m]\u001b[0m\u001b[1;33m)\u001b[0m\u001b[1;33m\u001b[0m\u001b[1;33m\u001b[0m\u001b[0m\n\u001b[0;32m    128\u001b[0m             \u001b[1;31m#plt.show()\u001b[0m\u001b[1;33m\u001b[0m\u001b[1;33m\u001b[0m\u001b[1;33m\u001b[0m\u001b[0m\n\u001b[1;32m--> 129\u001b[1;33m             \u001b[1;31m#f.save_fig(\"exp_{}.pdf\".format(idx), bbox_inches='tight')\u001b[0m\u001b[1;33m\u001b[0m\u001b[1;33m\u001b[0m\u001b[1;33m\u001b[0m\u001b[0m\n\u001b[0m\u001b[0;32m    130\u001b[0m     \u001b[1;31m# Finish off the figure\u001b[0m\u001b[1;33m\u001b[0m\u001b[1;33m\u001b[0m\u001b[1;33m\u001b[0m\u001b[0m\n\u001b[0;32m    131\u001b[0m \u001b[1;33m\u001b[0m\u001b[0m\n",
      "\u001b[1;31mAttributeError\u001b[0m: 'Figure' object has no attribute 'save_fig'"
     ]
    }
   ],
   "source": [
    "display_learning_curve_set('bool_exp')"
   ]
  },
  {
   "cell_type": "code",
   "execution_count": 36,
   "metadata": {},
   "outputs": [
    {
     "data": {
      "text/plain": [
       "array([ 5.04039228e-04,  3.58694204e-04, -3.44887655e-03,  2.49865960e-04,\n",
       "        4.96804668e-03,  3.93875875e-04, -2.18183661e-04,  1.35702733e-03,\n",
       "       -1.24393951e-03,  2.65576108e-03,  1.79607130e-03, -1.15012785e-03,\n",
       "       -4.45158075e-04,  1.75366900e-03,  2.02076766e-03,  3.56801529e-03,\n",
       "       -1.82732358e-03, -1.11707614e-03,  1.35671906e-03,  2.67975847e-03,\n",
       "        2.39326153e-03,  4.35557961e-03,  2.49996898e-03,  4.59325127e-03,\n",
       "       -1.19211641e-03, -2.55891285e-03,  4.01117047e-03, -5.29968238e-04,\n",
       "        3.43079609e-03,  4.52000974e-03,  5.56744519e-04,  1.63209834e-03,\n",
       "        6.23349275e-04, -5.57306048e-04, -4.05821856e-03, -1.11499126e-03,\n",
       "        1.26908626e-03, -6.70401205e-04,  2.97670159e-03,  1.99407223e-03,\n",
       "       -4.30406857e-04,  1.72843970e-03, -1.37182232e-03,  2.24580546e-03,\n",
       "        9.38933983e-04, -4.96707507e-04,  1.82808354e-03,  2.19937624e-06,\n",
       "        3.02569970e-04, -4.94624765e-05, -9.11450596e-04, -8.37665109e-04,\n",
       "        1.03480183e-03,  2.20846920e-03,  1.85087463e-03, -1.58265664e-03,\n",
       "        1.54558860e-03,  3.18323757e-04,  2.97342590e-03,  1.06538262e-03,\n",
       "        1.94266113e-03,  4.51738201e-03, -1.80153642e-03,  3.67554370e-04,\n",
       "        3.26510239e-03, -6.84093626e-04,  1.56619248e-03,  5.13471570e-03,\n",
       "        2.53803725e-03,  5.66719042e-04,  2.92826677e-03,  1.07336312e-03,\n",
       "        2.44860101e-04,  1.64906611e-03, -1.90062891e-03,  4.14961204e-03,\n",
       "       -4.06099763e-03, -6.00896543e-04, -2.50252523e-03,  1.88707234e-03,\n",
       "       -2.18538288e-03,  5.17961476e-03,  1.70655607e-03,  1.59893255e-03,\n",
       "        4.07838961e-03,  2.64117704e-03, -2.74552102e-03,  9.69515939e-04,\n",
       "        2.97026872e-03,  1.98201742e-03,  6.49765949e-04, -1.18613080e-03,\n",
       "       -1.79609947e-03,  3.28717916e-03,  3.62801529e-03, -9.65415442e-04,\n",
       "       -5.50134399e-04,  1.47777086e-03,  2.51556025e-06, -2.44758470e-04,\n",
       "       -9.24454594e-04,  6.15592056e-04,  2.12501764e-04, -1.30984618e-03,\n",
       "        4.27623698e-03, -6.34449825e-04, -1.54018134e-03, -3.26206838e-03,\n",
       "       -4.51604690e-04,  4.22689458e-03,  2.33951234e-03,  1.77676394e-03,\n",
       "        8.57480511e-04,  4.00851155e-03, -2.10720507e-04, -4.67662525e-04,\n",
       "        2.56744865e-03,  7.12184119e-04,  2.29490950e-04,  5.14887413e-03,\n",
       "        5.27522247e-03,  1.32724072e-03, -4.11808398e-03,  6.36342622e-04,\n",
       "       -7.14815033e-05,  1.67442064e-04,  2.59648869e-03, -7.10347900e-04,\n",
       "       -3.37310921e-04, -1.72248844e-03,  3.08345049e-03, -7.07898114e-04,\n",
       "        5.63532813e-04, -7.57425369e-05,  7.17321236e-04, -2.95485603e-03,\n",
       "        1.96153205e-03,  2.63407920e-03,  8.47062853e-04,  6.94189730e-05,\n",
       "       -2.56433734e-03, -1.69502498e-04,  1.08236109e-03,  9.41062463e-04,\n",
       "       -9.52926988e-04,  2.26376997e-03,  2.10731919e-03,  2.87602493e-03,\n",
       "       -1.69278367e-03,  2.65211542e-03, -9.04724642e-04, -2.88956054e-03,\n",
       "        4.19340999e-04,  3.71245667e-04, -6.01940555e-04,  1.36858827e-04,\n",
       "       -1.66757288e-03, -2.70847045e-03, -2.16263346e-03,  1.90274150e-03,\n",
       "        2.42950162e-03,  1.46353250e-05,  2.48823524e-03,  1.07162865e-03,\n",
       "       -3.10729911e-06,  1.21633243e-03,  3.04495147e-03, -3.85935861e-03,\n",
       "       -3.37270740e-03, -1.06977706e-03,  5.01962658e-03, -2.61395820e-03,\n",
       "        1.26568053e-03, -3.49327899e-03,  2.68356921e-03,  9.10768053e-04,\n",
       "        4.81170043e-03,  1.39474962e-03,  1.50713895e-03,  4.36879788e-03,\n",
       "        9.98884905e-04,  2.41851038e-03, -7.85090306e-05,  1.94067147e-03,\n",
       "       -1.43632607e-03,  1.44808309e-03, -6.71706919e-04, -4.17268689e-04,\n",
       "       -8.88249429e-04,  1.62560097e-03,  5.17042237e-04, -1.28692586e-03,\n",
       "        3.59663391e-03, -2.84924614e-03,  4.51743510e-03,  3.11648892e-03,\n",
       "       -1.03246607e-03, -9.07405556e-05, -6.11142069e-03,  2.16983003e-03,\n",
       "        5.10967278e-04, -3.39845452e-03, -1.24677943e-04,  4.55334753e-04,\n",
       "        4.20215260e-03,  1.77476823e-03,  3.71762225e-03, -2.56145350e-03,\n",
       "        4.48965887e-03, -2.86798837e-04,  2.49296753e-03,  1.44531264e-03,\n",
       "        3.18341143e-03,  2.94984016e-03,  1.03847205e-03,  1.04255392e-03,\n",
       "       -2.74582324e-03,  5.46746282e-03, -1.26177992e-03,  1.03738203e-04,\n",
       "        3.87099665e-03,  4.35794645e-04, -5.01008530e-04,  3.08018207e-04,\n",
       "       -2.64672010e-04, -8.63782712e-04,  1.77722226e-03, -9.07153415e-04,\n",
       "        6.10655872e-03,  2.31982046e-03,  2.48765131e-03,  4.44044080e-03,\n",
       "        4.67010587e-03, -1.81090331e-03,  9.75554867e-04,  7.22250785e-04,\n",
       "        7.23050674e-04,  1.11494982e-03,  3.74193303e-04, -6.80239347e-04,\n",
       "        3.59466439e-03,  2.70295609e-03,  3.03527550e-03,  2.20457511e-03,\n",
       "        1.73433498e-03, -1.69613317e-03,  4.34159621e-04, -1.17026013e-03,\n",
       "        3.95930512e-03, -6.24554988e-04,  1.02958130e-03,  1.81693479e-03,\n",
       "        1.22084026e-03, -1.06593920e-03,  4.82469145e-03, -2.48503056e-03])"
      ]
     },
     "execution_count": 36,
     "metadata": {},
     "output_type": "execute_result"
    }
   ],
   "source": [
    "predictions4"
   ]
  },
  {
   "cell_type": "code",
   "execution_count": null,
   "metadata": {},
   "outputs": [],
   "source": []
  },
  {
   "cell_type": "code",
   "execution_count": 2,
   "metadata": {},
   "outputs": [],
   "source": [
    "import numpy as np"
   ]
  },
  {
   "cell_type": "code",
   "execution_count": null,
   "metadata": {},
   "outputs": [],
   "source": [
    "e = []\n",
    "for i in np.arange(0,9):\n",
    "    e = "
   ]
  }
 ],
 "metadata": {
  "kernelspec": {
   "display_name": "Python 3.7.3 64-bit ('base': conda)",
   "language": "python",
   "name": "python37364bitbaseconda78490049e4974f66ad90abf9395a623c"
  },
  "language_info": {
   "codemirror_mode": {
    "name": "ipython",
    "version": 3
   },
   "file_extension": ".py",
   "mimetype": "text/x-python",
   "name": "python",
   "nbconvert_exporter": "python",
   "pygments_lexer": "ipython3",
   "version": "3.7.3"
  }
 },
 "nbformat": 4,
 "nbformat_minor": 4
}
